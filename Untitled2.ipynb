{
 "cells": [
  {
   "cell_type": "markdown",
   "id": "7529ae66-4c04-4e6a-b421-408431b9a6ae",
   "metadata": {},
   "source": [
    "# Question :- 1 Convert a string to a zigzag pattern on a given number of rows and then read it row by row.\n",
    "   - Input: s = \"PAYPALISHIRING\", numRows = 3\n"
   ]
  },
  {
   "cell_type": "code",
   "execution_count": 6,
   "id": "7991635f-308f-42ef-a10b-5b11b42efd75",
   "metadata": {},
   "outputs": [],
   "source": [
    "s = \"PAYPALISHIRING\""
   ]
  },
  {
   "cell_type": "code",
   "execution_count": 8,
   "id": "e9a975a1-4ede-4bf5-85e3-22181eaa3da3",
   "metadata": {},
   "outputs": [],
   "source": [
    " numRows = 3"
   ]
  },
  {
   "cell_type": "code",
   "execution_count": 115,
   "id": "06391a8b-c4e1-4ab7-8f86-27b82b98006a",
   "metadata": {},
   "outputs": [
    {
     "name": "stdout",
     "output_type": "stream",
     "text": [
      "Zigzag conversion result: PAHNAPLSIIGYIR\n"
     ]
    }
   ],
   "source": [
    "def convert_zigzag(s: str, numRows: int) -> str:\n",
    "    if numRows == 1 or numRows >= len(s):\n",
    "        return s\n",
    "    rows = [''] * numRows\n",
    "    current_row = 0\n",
    "    going_down = False\n",
    "\n",
    "    for char in s:\n",
    "        rows[current_row] += char\n",
    "        if current_row == 0 or current_row == numRows - 1:\n",
    "            going_down = not going_down\n",
    "        current_row += 1 if going_down else -1\n",
    "\n",
    "    return ''.join(rows)\n",
    "\n",
    "s = \"PAYPALISHIRING\"\n",
    "numRows = 3\n",
    "result = convert_zigzag(s, numRows)\n",
    "print(\"Zigzag conversion result:\", result)\n"
   ]
  },
  {
   "cell_type": "markdown",
   "id": "68eaa58d-94dc-4201-8e27-1067c8268eee",
   "metadata": {},
   "source": [
    "# Questions:-2  Implement a method to perform basic string compression using the counts of repeated characters.\n",
    "   - Input: \"aabcccccaaa\"\n"
   ]
  },
  {
   "cell_type": "code",
   "execution_count": 18,
   "id": "798b2a74-ff93-4c7e-b259-5b94c437b788",
   "metadata": {},
   "outputs": [],
   "source": [
    "Input: \"aabcccccaaa\""
   ]
  },
  {
   "cell_type": "code",
   "execution_count": 117,
   "id": "7387e84f-e947-432f-a1f4-85f44b51b230",
   "metadata": {},
   "outputs": [
    {
     "data": {
      "text/plain": [
       "'a2b1c5a3'"
      ]
     },
     "execution_count": 117,
     "metadata": {},
     "output_type": "execute_result"
    }
   ],
   "source": [
    "def compress_string(s):\n",
    "    compressed = []\n",
    "    count = 1\n",
    "    \n",
    "    for i in range(1, len(s)):\n",
    "        if s[i] == s[i - 1]:\n",
    "            count += 1\n",
    "        else:\n",
    "            \n",
    "            compressed.append(s[i - 1] + str(count))\n",
    "            count = 1\n",
    "\n",
    "    compressed.append(s[-1] + str(count))\n",
    "    \n",
    "    compressed_string = ''.join(compressed)\n",
    "    \n",
    "    return compressed_string if len(compressed_string) < len(s) else s\n",
    "\n",
    "input_string = \"aabcccccaaa\"\n",
    "compressed_output = compress_string(input_string)\n",
    "compressed_output\n"
   ]
  },
  {
   "cell_type": "markdown",
   "id": "e69bcc05-8d24-4760-ba77-038ebd95c37c",
   "metadata": {},
   "source": [
    "# Questions 3:- Write a function that generates all possible permutations of a given string.\n",
    "   - Input: \"ABC\"\n"
   ]
  },
  {
   "cell_type": "code",
   "execution_count": 25,
   "id": "ee41182a-9bd4-49f0-9aad-d2103aff42fc",
   "metadata": {},
   "outputs": [],
   "source": [
    "Input: \"ABC\""
   ]
  },
  {
   "cell_type": "code",
   "execution_count": 119,
   "id": "5ba468c5-f3b1-4daf-bab9-3f093304777b",
   "metadata": {},
   "outputs": [
    {
     "name": "stdout",
     "output_type": "stream",
     "text": [
      "All possible permutations of the string 'ABC':\n",
      "ABC\n",
      "ACB\n",
      "BAC\n",
      "BCA\n",
      "CAB\n",
      "CBA\n"
     ]
    }
   ],
   "source": [
    "import itertools\n",
    "\n",
    "def generate_permutations(string):\n",
    "\n",
    "    permutations = itertools.permutations(string)\n",
    "    \n",
    "    perm_list = [''.join(p) for p in permutations]\n",
    "    \n",
    "    return perm_list\n",
    "\n",
    "\n",
    "input_string = \"ABC\"\n",
    "\n",
    "result = generate_permutations(input_string)\n",
    "print(\"All possible permutations of the string 'ABC':\")\n",
    "for perm in result:\n",
    "    print(perm)\n"
   ]
  },
  {
   "cell_type": "markdown",
   "id": "1f91e2da-ab37-4b46-b807-6ba7a0fa7ee3",
   "metadata": {},
   "source": [
    "# Questions 4:- Given an array of strings, group anagrams together.\n",
    "   - Input: [\"eat\", \"tea\", \"tan\", \"ate\", \"nat\", \"bat\"]\n"
   ]
  },
  {
   "cell_type": "code",
   "execution_count": 32,
   "id": "5d1e8b77-191f-459d-88f3-6385e8717a66",
   "metadata": {},
   "outputs": [],
   "source": [
    "Input: [\"eat\", \"tea\", \"tan\", \"ate\", \"nat\", \"bat\"]"
   ]
  },
  {
   "cell_type": "code",
   "execution_count": 121,
   "id": "25ebbde1-e42f-48a7-9c11-2d1977f5a274",
   "metadata": {},
   "outputs": [
    {
     "name": "stdout",
     "output_type": "stream",
     "text": [
      "[['eat', 'tea', 'ate'], ['tan', 'nat'], ['bat']]\n"
     ]
    }
   ],
   "source": [
    "from collections import defaultdict\n",
    "\n",
    "def group_anagrams(strs):\n",
    "    anagrams = defaultdict(list)\n",
    "    \n",
    "    for word in strs:\n",
    "        key = ''.join(sorted(word))\n",
    "        anagrams[key].append(word)\n",
    "    \n",
    "    return list(anagrams.values())\n",
    "\n",
    "input_list = [\"eat\", \"tea\", \"tan\", \"ate\", \"nat\", \"bat\"]\n",
    "\n",
    "result = group_anagrams(input_list)\n",
    "print(result)\n"
   ]
  },
  {
   "cell_type": "markdown",
   "id": "f04887e2-dae0-4547-8553-c3c4e9d953fa",
   "metadata": {},
   "source": [
    "# Questions 5:- Write a function to multiply two large numbers represented as strings.\n",
    "   - Input: num1 = \"123\", num2 = \"456\""
   ]
  },
  {
   "cell_type": "code",
   "execution_count": 123,
   "id": "f3d0671c-5344-4c99-9554-1b500b7d9990",
   "metadata": {},
   "outputs": [
    {
     "name": "stdout",
     "output_type": "stream",
     "text": [
      "The multiplication of 123 and 456 is: 56088\n"
     ]
    }
   ],
   "source": [
    "def multiply_large_numbers(num1, num2):\n",
    "    if num1 == \"0\" or num2 == \"0\":\n",
    "        return \"0\"\n",
    "\n",
    "    result = [0] * (len(num1) + len(num2))\n",
    "\n",
    "    num1 = num1[::-1]\n",
    "    num2 = num2[::-1]\n",
    "\n",
    "    for i in range(len(num1)):\n",
    "        for j in range(len(num2)):\n",
    "            result[i + j] += int(num1[i]) * int(num2[j])\n",
    "            result[i + j + 1] += result[i + j] // 10  \n",
    "            result[i + j] %= 10  \n",
    "\n",
    "    \n",
    "    while len(result) > 1 and result[-1] == 0:\n",
    "        result.pop()\n",
    "\n",
    "    \n",
    "    return ''.join(map(str, result[::-1]))\n",
    "\n",
    "\n",
    "num1 = \"123\"\n",
    "num2 = \"456\"\n",
    "result = multiply_large_numbers(num1, num2)\n",
    "print(f\"The multiplication of {num1} and {num2} is: {result}\")\n"
   ]
  },
  {
   "cell_type": "markdown",
   "id": "0402496a-3611-487d-9584-dcfe9a5ca1b6",
   "metadata": {},
   "source": [
    "# Questions 6:- Given two strings, check if one is a rotation of the other using only one call to a string method.\n",
    "   - Input: str1 = \"ABCD\", str2 = \"DABC\"\n"
   ]
  },
  {
   "cell_type": "code",
   "execution_count": 125,
   "id": "3ae83874-8eb4-47d6-9bd3-f4aa3b1f2685",
   "metadata": {},
   "outputs": [
    {
     "name": "stdout",
     "output_type": "stream",
     "text": [
      "Is 'DABC' a rotation of 'ABCD'? True\n"
     ]
    }
   ],
   "source": [
    "\n",
    "def is_rotation(str1, str2):\n",
    "\n",
    "    return len(str1) == len(str2) and str2 in (str1 + str1)\n",
    "\n",
    "\n",
    "str1 = \"ABCD\"\n",
    "str2 = \"DABC\"\n",
    "\n",
    "\n",
    "result = is_rotation(str1, str2)\n",
    "print(f\"Is '{str2}' a rotation of '{str1}'? {result}\")\n"
   ]
  },
  {
   "cell_type": "markdown",
   "id": "fb7c4aeb-57af-42f5-ba87-cc9dffb95cf2",
   "metadata": {},
   "source": [
    "# Question 7:- Given a string containing just the characters (, ), {, }, [, and ], determine if the input string is valid.\n",
    "   - Input: \"()[]{}\"\n"
   ]
  },
  {
   "cell_type": "code",
   "execution_count": 127,
   "id": "ed1652e4-a45d-4833-911e-abe435c09c4e",
   "metadata": {},
   "outputs": [
    {
     "name": "stdout",
     "output_type": "stream",
     "text": [
      "True\n"
     ]
    }
   ],
   "source": [
    "def isValid(s: str) -> bool:\n",
    "    \n",
    "    bracket_map = {')': '(', ']': '[', '}': '{'}\n",
    "    stack = []\n",
    "\n",
    "    \n",
    "    for char in s:\n",
    "        \n",
    "        if char in bracket_map:\n",
    "            \n",
    "            top_element = stack.pop() if stack else '#'\n",
    "            \n",
    "            if bracket_map[char] != top_element:\n",
    "                return False\n",
    "        else:\n",
    "            \n",
    "            stack.append(char)\n",
    "\n",
    "    \n",
    "    return not stack\n",
    "\n",
    "# Test case\n",
    "input_string = \"()[]{}\"\n",
    "print(isValid(input_string))\n"
   ]
  },
  {
   "cell_type": "markdown",
   "id": "35e3da82-05f0-4f14-a317-9cea9680cf83",
   "metadata": {},
   "source": [
    "# Question 8:- Implement the function atoi which converts a string to an integer.\n",
    "   - Input: \"4193 with words\"\n"
   ]
  },
  {
   "cell_type": "code",
   "execution_count": 129,
   "id": "c9294465-a660-46dc-95cf-c01d6a71b4cb",
   "metadata": {},
   "outputs": [
    {
     "name": "stdout",
     "output_type": "stream",
     "text": [
      "Input: \"4193 with words\", Output: 4193\n"
     ]
    }
   ],
   "source": [
    "def atoi(s: str) -> int:\n",
    "    \n",
    "    i, sign, result = 0, 1, 0\n",
    "    n = len(s)\n",
    "\n",
    "\n",
    "    while i < n and s[i] == ' ':\n",
    "        i += 1\n",
    "\n",
    "    \n",
    "    if i < n and (s[i] == '-' or s[i] == '+'):\n",
    "        sign = -1 if s[i] == '-' else 1\n",
    "        i += 1\n",
    "\n",
    "    \n",
    "    while i < n and s[i].isdigit():\n",
    "        result = result * 10 + int(s[i])\n",
    "        i += 1\n",
    "\n",
    "    \n",
    "    result *= sign\n",
    "\n",
    "\n",
    "    INT_MAX = 2**31 - 1\n",
    "    INT_MIN = -2**31\n",
    "    if result > INT_MAX:\n",
    "        return INT_MAX\n",
    "    if result < INT_MIN:\n",
    "        return INT_MIN\n",
    "\n",
    "    return result\n",
    "\n",
    "\n",
    "input_str = \"4193 with words\"\n",
    "print(f'Input: \"{input_str}\", Output: {atoi(input_str)}')\n"
   ]
  },
  {
   "cell_type": "markdown",
   "id": "bc015d59-5131-4367-b6f2-eb165abfdef8",
   "metadata": {},
   "source": [
    "# Questions 9:-Write a function that generates the nth term of the \"count and say\" sequence.\n",
    "   - Input: n = 4\n"
   ]
  },
  {
   "cell_type": "code",
   "execution_count": 81,
   "id": "4f4c573a-31b0-44ed-ae7c-7eddbc05d6a1",
   "metadata": {},
   "outputs": [],
   "source": [
    "n=4"
   ]
  },
  {
   "cell_type": "code",
   "execution_count": 131,
   "id": "6292097c-cfda-46ca-83f6-2246b47397fe",
   "metadata": {},
   "outputs": [
    {
     "name": "stdout",
     "output_type": "stream",
     "text": [
      "The 4th term of the count and say sequence is: 1211\n"
     ]
    }
   ],
   "source": [
    "def count_and_say(n: int) -> str:\n",
    "    if n == 1:\n",
    "        return \"1\"\n",
    "    \n",
    "    previous_term = count_and_say(n - 1)\n",
    "    \n",
    "    result = \"\"\n",
    "    count = 1\n",
    "    \n",
    "    for i in range(1, len(previous_term)):\n",
    "        if previous_term[i] == previous_term[i - 1]:\n",
    "            count += 1\n",
    "        else:\n",
    "            result += str(count) + previous_term[i - 1]\n",
    "            count = 1\n",
    "    \n",
    "    result += str(count) + previous_term[-1]\n",
    "    \n",
    "    return result\n",
    "\n",
    "\n",
    "n = 4\n",
    "nth_term = count_and_say(n)\n",
    "print(f\"The {n}th term of the count and say sequence is: {nth_term}\")\n"
   ]
  },
  {
   "cell_type": "markdown",
   "id": "51989dc6-1781-4186-aea5-295c82b639f6",
   "metadata": {},
   "source": [
    "# Questions:-10 Given two strings s and t, return the minimum window in s which will contain all the characters in t.\n",
    "   - Input: s = \"ADOBECODEBANC\", t = \"ABC\"\n"
   ]
  },
  {
   "cell_type": "code",
   "execution_count": 89,
   "id": "78890e8d-1f6d-41f5-962a-0a05a21e148d",
   "metadata": {},
   "outputs": [
    {
     "name": "stdout",
     "output_type": "stream",
     "text": [
      "The minimum window in 'ADOBECODEBANC' which contains all characters of 'ABC' is: 'BANC'\n"
     ]
    }
   ],
   "source": [
    "from collections import Counter\n",
    "\n",
    "def minWindow(s: str, t: str) -> str:\n",
    "    if not t or not s:\n",
    "        return \"\"\n",
    "    \n",
    "    \n",
    "    dict_t = Counter(t)\n",
    "\n",
    "    \n",
    "    required = len(dict_t)\n",
    "\n",
    "    \n",
    "    l, r = 0, 0\n",
    "\n",
    "    \n",
    "    formed = 0\n",
    "\n",
    "    \n",
    "    window_counts = {}\n",
    "\n",
    "    \n",
    "    ans = float(\"inf\"), None, None\n",
    "\n",
    "    while r < len(s):\n",
    "        \n",
    "        character = s[r]\n",
    "        window_counts[character] = window_counts.get(character, 0) + 1\n",
    "\n",
    "        \n",
    "        if character in dict_t and window_counts[character] == dict_t[character]:\n",
    "            formed += 1\n",
    "\n",
    "        while l <= r and formed == required:\n",
    "            character = s[l]\n",
    "\n",
    "            \n",
    "            if r - l + 1 < ans[0]:\n",
    "                ans = (r - l + 1, l, r)\n",
    "\n",
    "            \n",
    "            window_counts[character] -= 1\n",
    "            if character in dict_t and window_counts[character] < dict_t[character]:\n",
    "                formed -= 1\n",
    "\n",
    "            \n",
    "            l += 1\n",
    "        r += 1\n",
    "\n",
    "    return \"\" if ans[0] == float(\"inf\") else s[ans[1]: ans[2] + 1]\n",
    "s = \"ADOBECODEBANC\"\n",
    "t = \"ABC\"\n",
    "result = minWindow(s, t)\n",
    "print(f\"The minimum window in '{s}' which contains all characters of '{t}' is: '{result}'\")\n"
   ]
  },
  {
   "cell_type": "markdown",
   "id": "390e8bd2-63d5-4281-8bcb-bc3c2f4a7a4d",
   "metadata": {},
   "source": [
    "# Questions 11:-Given a string, find the length of the longest substring without repeating characters.\n",
    "   - Input: \"abcabcbb\"\n"
   ]
  },
  {
   "cell_type": "code",
   "execution_count": 92,
   "id": "eea4df05-f78f-4d5e-ac62-3011b0333c2c",
   "metadata": {},
   "outputs": [],
   "source": [
    "Input: \"abcabcbb\""
   ]
  },
  {
   "cell_type": "code",
   "execution_count": 133,
   "id": "2ad03a6a-9f16-4f08-b791-4d9a65f0c46c",
   "metadata": {},
   "outputs": [
    {
     "name": "stdout",
     "output_type": "stream",
     "text": [
      "The length of the longest substring without repeating characters is: 3\n"
     ]
    }
   ],
   "source": [
    "\n",
    "def length_of_longest_substring(s: str) -> int:\n",
    "    char_set = set()  \n",
    "    left = 0          \n",
    "    max_length = 0   \n",
    "\n",
    "    for right in range(len(s)):\n",
    "        while s[right] in char_set:\n",
    "            char_set.remove(s[left])\n",
    "            left += 1\n",
    "        \n",
    "        char_set.add(s[right])\n",
    "        \n",
    "        max_length = max(max_length, right - left + 1)\n",
    "\n",
    "    return max_length\n",
    "\n",
    "input_str = \"abcabcbb\"\n",
    "result = length_of_longest_substring(input_str)\n",
    "\n",
    "print(f\"The length of the longest substring without repeating characters is: {result}\")\n"
   ]
  },
  {
   "cell_type": "markdown",
   "id": "d4cc5b19-2660-4c9a-88a6-eaa101130a0c",
   "metadata": {},
   "source": [
    "# Questions 12:-Given three strings s1, s2, and s3, determine if s3 is formed by the interleaving of s1 and s2.\n",
    "   - Input: s1 = \"aabcc\", s2 = \"dbbca\", s3 = \"aadbbcbcac\"\n"
   ]
  },
  {
   "cell_type": "code",
   "execution_count": 135,
   "id": "c89e6c68-016c-4d3f-a2bb-322f976c61d7",
   "metadata": {},
   "outputs": [
    {
     "name": "stdout",
     "output_type": "stream",
     "text": [
      "Is s3 formed by the interleaving of s1 and s2? True\n"
     ]
    }
   ],
   "source": [
    "def isInterleave(s1, s2, s3):\n",
    "    \n",
    "    if len(s1) + len(s2) != len(s3):\n",
    "        return False\n",
    "\n",
    "    dp = [[False] * (len(s2) + 1) for _ in range(len(s1) + 1)]\n",
    "\n",
    "    for i in range(len(s1) + 1):\n",
    "        for j in range(len(s2) + 1):\n",
    "            \n",
    "            if i == 0 and j == 0:\n",
    "                dp[i][j] = True\n",
    "            elif i == 0:\n",
    "                dp[i][j] = dp[i][j-1] and s2[j-1] == s3[i+j-1]\n",
    "            \n",
    "            elif j == 0:\n",
    "                dp[i][j] = dp[i-1][j] and s1[i-1] == s3[i+j-1]\n",
    "    \n",
    "            else:\n",
    "                dp[i][j] = (dp[i-1][j] and s1[i-1] == s3[i+j-1]) or (dp[i][j-1] and s2[j-1] == s3[i+j-1])\n",
    "\n",
    "    return dp[len(s1)][len(s2)]\n",
    "\n",
    "\n",
    "s1 = \"aabcc\"\n",
    "s2 = \"dbbca\"\n",
    "s3 = \"aadbbcbcac\"\n",
    "result = isInterleave(s1, s2, s3)\n",
    "print(f\"Is s3 formed by the interleaving of s1 and s2? {result}\")\n"
   ]
  },
  {
   "cell_type": "markdown",
   "id": "89de95ad-7c4f-4021-a7a8-e17b321ee78b",
   "metadata": {},
   "source": [
    "# Questions 13:- Write a function to convert a Roman numeral to an integer.\n",
    "   - Input: \"MCMXCIV\"\n"
   ]
  },
  {
   "cell_type": "code",
   "execution_count": 137,
   "id": "174aa63c-fdfe-4b54-bebd-7fbc62ccf6cd",
   "metadata": {},
   "outputs": [
    {
     "name": "stdout",
     "output_type": "stream",
     "text": [
      "The integer value of Roman numeral 'MCMXCIV' is 1994.\n"
     ]
    }
   ],
   "source": [
    "\n",
    "def roman_to_int(s: str) -> int:\n",
    "    \n",
    "    roman_dict = {\n",
    "        'I': 1,\n",
    "        'V': 5,\n",
    "        'X': 10,\n",
    "        'L': 50,\n",
    "        'C': 100,\n",
    "        'D': 500,\n",
    "        'M': 1000\n",
    "    }\n",
    "    \n",
    "    \n",
    "    total = 0\n",
    "    \n",
    "    \n",
    "    for i in range(len(s)):\n",
    "        \n",
    "        if i + 1 < len(s) and roman_dict[s[i]] < roman_dict[s[i + 1]]:\n",
    "            total -= roman_dict[s[i]]\n",
    "        else:\n",
    "            total += roman_dict[s[i]]\n",
    "    \n",
    "    return total\n",
    "\n",
    "\n",
    "roman_numeral = \"MCMXCIV\"\n",
    "result = roman_to_int(roman_numeral)\n",
    "print(f\"The integer value of Roman numeral '{roman_numeral}' is {result}.\")\n"
   ]
  },
  {
   "cell_type": "markdown",
   "id": "535af317-0e82-4514-95fb-f2cf5783ac0c",
   "metadata": {},
   "source": [
    "# Questions 14:-Find the longest common substring between two strings.\n",
    "   - Input: str1 = \"ABABC\", str2 = \"BABCA\""
   ]
  },
  {
   "cell_type": "code",
   "execution_count": 139,
   "id": "7bab979b-9fa7-4ae6-89bc-2d55f982b493",
   "metadata": {},
   "outputs": [
    {
     "name": "stdout",
     "output_type": "stream",
     "text": [
      "The longest common substring is: 'BABC' with length 4\n"
     ]
    }
   ],
   "source": [
    "\n",
    "def longest_common_substring(str1, str2):\n",
    "    m = len(str1)\n",
    "    n = len(str2)\n",
    "\n",
    "    dp = [[0 for j in range(n + 1)] for i in range(m + 1)]\n",
    "    \n",
    "    longest_length = 0\n",
    "    \n",
    "    end_index = 0\n",
    "\n",
    "    for i in range(1, m + 1):\n",
    "        for j in range(1, n + 1):\n",
    "            if str1[i - 1] == str2[j - 1]:\n",
    "                dp[i][j] = dp[i - 1][j - 1] + 1\n",
    "                \n",
    "                if dp[i][j] > longest_length:\n",
    "                    longest_length = dp[i][j]\n",
    "                    end_index = i - 1\n",
    "            else:\n",
    "                dp[i][j] = 0\n",
    "    \n",
    "    longest_common_substring = str1[end_index - longest_length + 1:end_index + 1]\n",
    "    \n",
    "    return longest_common_substring, longest_length\n",
    "\n",
    "str1 = \"ABABC\"\n",
    "str2 = \"BABCA\"\n",
    "result, length = longest_common_substring(str1, str2)\n",
    "\n",
    "print(f\"The longest common substring is: '{result}' with length {length}\")\n"
   ]
  },
  {
   "cell_type": "markdown",
   "id": "3ade7a68-33a1-45ae-b597-99c4135c6b87",
   "metadata": {},
   "source": [
    "# Questions 15:- Given a string s and a dictionary of words, check if s can be segmented into a space-separated sequence of one or more dictionary words.\n",
    "   - Input: s = \"leetcode\", wordDict = [\"leet\", \"code\"]\n"
   ]
  },
  {
   "cell_type": "code",
   "execution_count": 141,
   "id": "ff4bab57-d570-4587-abbb-8716948dde31",
   "metadata": {},
   "outputs": [
    {
     "name": "stdout",
     "output_type": "stream",
     "text": [
      "Can the string 'leetcode' be segmented? True\n"
     ]
    }
   ],
   "source": [
    "\n",
    "def wordBreak(s, wordDict):\n",
    "    \n",
    "    wordSet = set(wordDict)\n",
    "    \n",
    "    dp = [False] * (len(s) + 1)\n",
    "    dp[0] = True  \n",
    "    \n",
    "    for i in range(1, len(s) + 1):\n",
    "        for j in range(i):\n",
    "            if dp[j] and s[j:i] in wordSet:\n",
    "                dp[i] = True\n",
    "                break\n",
    "    \n",
    "    return dp[-1]\n",
    "\n",
    "s = \"leetcode\"\n",
    "wordDict = [\"leet\", \"code\"]\n",
    "\n",
    "result = wordBreak(s, wordDict)\n",
    "print(f\"Can the string '{s}' be segmented? {result}\")\n"
   ]
  },
  {
   "cell_type": "markdown",
   "id": "cc0f1889-7048-4ef9-9f0d-53ac8513fb37",
   "metadata": {},
   "source": [
    "# Questions 16:- Remove the minimum number of invalid parentheses to make the input string valid. Return all possible results.\n",
    "   - Input: \"()())()\"\n"
   ]
  },
  {
   "cell_type": "code",
   "execution_count": 143,
   "id": "49188d59-145f-4a71-8795-37b11cd36135",
   "metadata": {},
   "outputs": [
    {
     "name": "stdout",
     "output_type": "stream",
     "text": [
      "['']\n"
     ]
    }
   ],
   "source": [
    "def is_valid(s):\n",
    "    \"\"\"Check if a string has valid parentheses.\"\"\"\n",
    "    count = 0\n",
    "    for char in s:\n",
    "        if char == '(':\n",
    "            count += 1\n",
    "        elif char == ')':\n",
    "            count -= 1\n",
    "        if count < 0:\n",
    "            return False\n",
    "    return count == 0\n",
    "\n",
    "def remove_invalid_parentheses(s):\n",
    "    \"\"\"Remove the minimum number of invalid parentheses to make the input string valid.\"\"\"\n",
    "    left, right = 0, 0\n",
    "    for char in s:\n",
    "        if char == '(':\n",
    "            left += 1\n",
    "        elif char == ')':\n",
    "            if left == 0:\n",
    "                right += 1\n",
    "            else:\n",
    "                left -= 1\n",
    "                \n",
    "    def backtrack(start, left_count, right_count, open_count, path, results):\n",
    "        if left_count == 0 and right_count == 0:\n",
    "            if is_valid(path):\n",
    "                results.add(path)\n",
    "            return\n",
    "        \n",
    "        for i in range(start, len(s)):\n",
    "            if i > start and s[i] == s[i - 1]:\n",
    "                continue\n",
    "            \n",
    "            if left_count > 0 and s[i] == '(':\n",
    "                backtrack(i + 1, left_count - 1, right_count, open_count, path, results)\n",
    "            elif right_count > 0 and s[i] == ')':\n",
    "                backtrack(i + 1, left_count, right_count - 1, open_count, path, results)\n",
    "            else:\n",
    "                if s[i] == '(':\n",
    "                    open_count += 1\n",
    "                if open_count > 0:\n",
    "                    path += s[i]\n",
    "                    if s[i] == '(':\n",
    "                        open_count -= 1\n",
    "                    backtrack(i + 1, left_count, right_count, open_count, path, results)\n",
    "                    path = path[:-1]  \n",
    "                else:\n",
    "                    path += s[i]\n",
    "                    backtrack(i + 1, left_count, right_count, open_count, path, results)\n",
    "                    path = path[:-1] \n",
    "                \n",
    "    results = set()\n",
    "    backtrack(0, left, right, 0, '', results)\n",
    "    return list(results)\n",
    "\n",
    "input_string = \"()())()\"\n",
    "valid_parentheses = remove_invalid_parentheses(input_string)\n",
    "print(valid_parentheses)\n"
   ]
  },
  {
   "cell_type": "code",
   "execution_count": null,
   "id": "0ae1e4d5-f9c0-4b18-a5ca-c1c159ce57f2",
   "metadata": {},
   "outputs": [],
   "source": []
  }
 ],
 "metadata": {
  "kernelspec": {
   "display_name": "Python 3 (ipykernel)",
   "language": "python",
   "name": "python3"
  },
  "language_info": {
   "codemirror_mode": {
    "name": "ipython",
    "version": 3
   },
   "file_extension": ".py",
   "mimetype": "text/x-python",
   "name": "python",
   "nbconvert_exporter": "python",
   "pygments_lexer": "ipython3",
   "version": "3.12.4"
  }
 },
 "nbformat": 4,
 "nbformat_minor": 5
}
